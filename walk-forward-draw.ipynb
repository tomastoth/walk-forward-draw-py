{
 "cells": [
  {
   "cell_type": "code",
   "execution_count": 5,
   "metadata": {},
   "outputs": [],
   "source": [
    "import matplotlib.pyplot as plt\n",
    "import json\n",
    "\n",
    "\n",
    "def get_equities(data):\n",
    "    return data['equityChanges']\n",
    "\n",
    "def get_in_sample_changes(equities):\n",
    "    return equities['in']\n",
    "\n",
    "def get_out_of_sample_changes(equities):\n",
    "    return equities['out']\n",
    "\n",
    "def calculate_epochs(in_sample_equities, out_of_sample_equities):\n",
    "    epochs = []\n",
    "    for i in range(len(in_sample_equities)):\n",
    "        in_sample_epoch = in_sample_equities[i]\n",
    "        equity = data['startingEquity']\n",
    "        equities = []\n",
    "        for j in range(len(in_sample_epoch)): \n",
    "            in_sample_eq_change = in_sample_epoch[j]\n",
    "            equity += in_sample_eq_change\n",
    "            equities.append(equity)\n",
    "        out_of_sample_epoch = out_of_sample_equities[i]\n",
    "        out_equities = []\n",
    "        out_equities.append(equity)\n",
    "        for j in range(len(out_of_sample_epoch)):\n",
    "            out_of_sample_eq_change = out_of_sample_epoch[j]\n",
    "            equity += out_of_sample_eq_change\n",
    "            out_equities.append(equity)\n",
    "        epochs.append([equities, out_equities])\n",
    "        return epochs\n",
    "def convert_to_equities(data):\n",
    "    in_sample_equities = get_in_sample_changes(get_equities(data))\n",
    "    out_of_sample_equities = get_out_of_sample_changes(get_equities(data))\n",
    "    epochs = []\n",
    "    return calculate_epochs(in_sample_equities, out_of_sample_equities)\n",
    "        \n"
   ]
  },
  {
   "cell_type": "code",
   "execution_count": 6,
   "metadata": {},
   "outputs": [
    {
     "output_type": "error",
     "ename": "NameError",
     "evalue": "name 'epochs' is not defined",
     "traceback": [
      "\u001b[0;31m---------------------------------------------------------------------------\u001b[0m",
      "\u001b[0;31mNameError\u001b[0m                                 Traceback (most recent call last)",
      "\u001b[0;32m<ipython-input-6-4364cf97f6ba>\u001b[0m in \u001b[0;36m<module>\u001b[0;34m\u001b[0m\n\u001b[1;32m      1\u001b[0m \u001b[0;32mwith\u001b[0m \u001b[0mopen\u001b[0m\u001b[0;34m(\u001b[0m\u001b[0;34m\"./data.json\"\u001b[0m\u001b[0;34m)\u001b[0m \u001b[0;32mas\u001b[0m \u001b[0mdata_file\u001b[0m\u001b[0;34m:\u001b[0m\u001b[0;34m\u001b[0m\u001b[0;34m\u001b[0m\u001b[0m\n\u001b[1;32m      2\u001b[0m     \u001b[0mdata\u001b[0m \u001b[0;34m=\u001b[0m \u001b[0mjson\u001b[0m\u001b[0;34m.\u001b[0m\u001b[0mload\u001b[0m\u001b[0;34m(\u001b[0m\u001b[0mdata_file\u001b[0m\u001b[0;34m)\u001b[0m\u001b[0;34m\u001b[0m\u001b[0;34m\u001b[0m\u001b[0m\n\u001b[0;32m----> 3\u001b[0;31m     \u001b[0meqs\u001b[0m \u001b[0;34m=\u001b[0m \u001b[0;34m(\u001b[0m\u001b[0mconvert_to_equities\u001b[0m\u001b[0;34m(\u001b[0m\u001b[0mdata\u001b[0m\u001b[0;34m)\u001b[0m\u001b[0;34m)\u001b[0m\u001b[0;34m\u001b[0m\u001b[0;34m\u001b[0m\u001b[0m\n\u001b[0m\u001b[1;32m      4\u001b[0m     \u001b[0;32mfor\u001b[0m \u001b[0mi\u001b[0m \u001b[0;32min\u001b[0m \u001b[0mrange\u001b[0m\u001b[0;34m(\u001b[0m\u001b[0mlen\u001b[0m\u001b[0;34m(\u001b[0m\u001b[0meqs\u001b[0m\u001b[0;34m)\u001b[0m\u001b[0;34m)\u001b[0m\u001b[0;34m:\u001b[0m\u001b[0;34m\u001b[0m\u001b[0;34m\u001b[0m\u001b[0m\n\u001b[1;32m      5\u001b[0m         \u001b[0mindexes\u001b[0m \u001b[0;34m=\u001b[0m \u001b[0;34m[\u001b[0m\u001b[0;34m]\u001b[0m\u001b[0;34m\u001b[0m\u001b[0;34m\u001b[0m\u001b[0m\n",
      "\u001b[0;32m<ipython-input-5-70437a60a2c1>\u001b[0m in \u001b[0;36mconvert_to_equities\u001b[0;34m(data)\u001b[0m\n\u001b[1;32m     34\u001b[0m     \u001b[0mout_of_sample_equities\u001b[0m \u001b[0;34m=\u001b[0m \u001b[0mget_out_of_sample_changes\u001b[0m\u001b[0;34m(\u001b[0m\u001b[0mget_equities\u001b[0m\u001b[0;34m(\u001b[0m\u001b[0mdata\u001b[0m\u001b[0;34m)\u001b[0m\u001b[0;34m)\u001b[0m\u001b[0;34m\u001b[0m\u001b[0;34m\u001b[0m\u001b[0m\n\u001b[1;32m     35\u001b[0m     \u001b[0mepochs\u001b[0m \u001b[0;34m=\u001b[0m \u001b[0;34m[\u001b[0m\u001b[0;34m]\u001b[0m\u001b[0;34m\u001b[0m\u001b[0;34m\u001b[0m\u001b[0m\n\u001b[0;32m---> 36\u001b[0;31m     \u001b[0;32mreturn\u001b[0m \u001b[0mcalculate_epochs\u001b[0m\u001b[0;34m(\u001b[0m\u001b[0min_sample_equities\u001b[0m\u001b[0;34m,\u001b[0m \u001b[0mout_of_sample_equities\u001b[0m\u001b[0;34m)\u001b[0m\u001b[0;34m\u001b[0m\u001b[0;34m\u001b[0m\u001b[0m\n\u001b[0m\u001b[1;32m     37\u001b[0m \u001b[0;34m\u001b[0m\u001b[0m\n",
      "\u001b[0;32m<ipython-input-5-70437a60a2c1>\u001b[0m in \u001b[0;36mcalculate_epochs\u001b[0;34m(in_sample_equities, out_of_sample_equities)\u001b[0m\n\u001b[1;32m     28\u001b[0m             \u001b[0mequity\u001b[0m \u001b[0;34m+=\u001b[0m \u001b[0mout_of_sample_eq_change\u001b[0m\u001b[0;34m\u001b[0m\u001b[0;34m\u001b[0m\u001b[0m\n\u001b[1;32m     29\u001b[0m             \u001b[0mout_equities\u001b[0m\u001b[0;34m.\u001b[0m\u001b[0mappend\u001b[0m\u001b[0;34m(\u001b[0m\u001b[0mequity\u001b[0m\u001b[0;34m)\u001b[0m\u001b[0;34m\u001b[0m\u001b[0;34m\u001b[0m\u001b[0m\n\u001b[0;32m---> 30\u001b[0;31m         \u001b[0mepochs\u001b[0m\u001b[0;34m.\u001b[0m\u001b[0mappend\u001b[0m\u001b[0;34m(\u001b[0m\u001b[0;34m[\u001b[0m\u001b[0mequities\u001b[0m\u001b[0;34m,\u001b[0m \u001b[0mout_equities\u001b[0m\u001b[0;34m]\u001b[0m\u001b[0;34m)\u001b[0m\u001b[0;34m\u001b[0m\u001b[0;34m\u001b[0m\u001b[0m\n\u001b[0m\u001b[1;32m     31\u001b[0m         \u001b[0;32mreturn\u001b[0m \u001b[0mepochs\u001b[0m\u001b[0;34m\u001b[0m\u001b[0;34m\u001b[0m\u001b[0m\n\u001b[1;32m     32\u001b[0m \u001b[0;32mdef\u001b[0m \u001b[0mconvert_to_equities\u001b[0m\u001b[0;34m(\u001b[0m\u001b[0mdata\u001b[0m\u001b[0;34m)\u001b[0m\u001b[0;34m:\u001b[0m\u001b[0;34m\u001b[0m\u001b[0;34m\u001b[0m\u001b[0m\n",
      "\u001b[0;31mNameError\u001b[0m: name 'epochs' is not defined"
     ]
    }
   ],
   "source": [
    "with open(\"./data.json\") as data_file:\n",
    "    data = json.load(data_file)\n",
    "    eqs = (convert_to_equities(data))\n",
    "    for i in range(len(eqs)):\n",
    "        indexes = []\n",
    "        inAndOutOfSample = eqs[i]\n",
    "        counter = 0\n",
    "        print('in size', len(inAndOutOfSample[0]),'out size', len(inAndOutOfSample[1]))\n",
    "        for k in range(len(inAndOutOfSample)):\n",
    "            single_indexes = []\n",
    "            counter -= 1\n",
    "            for j in range(len(inAndOutOfSample[k])):\n",
    "                counter += 1\n",
    "                single_indexes.append(counter)\n",
    "            indexes.append(single_indexes)\n",
    "        plt.figure()\n",
    "        plt.plot(indexes[0], eqs[i][0])\n",
    "        plt.plot(indexes[1], eqs[i][1])"
   ]
  },
  {
   "cell_type": "code",
   "execution_count": null,
   "metadata": {},
   "outputs": [],
   "source": []
  }
 ],
 "metadata": {
  "language_info": {
   "codemirror_mode": {
    "name": "ipython",
    "version": 3
   },
   "file_extension": ".py",
   "mimetype": "text/x-python",
   "name": "python",
   "nbconvert_exporter": "python",
   "pygments_lexer": "ipython3",
   "version": "3.6.9-final"
  },
  "orig_nbformat": 2,
  "kernelspec": {
   "name": "python36964bitdf58e686617a48ffa6e95c4b74d3f882",
   "display_name": "Python 3.6.9 64-bit"
  }
 },
 "nbformat": 4,
 "nbformat_minor": 2
}