{
 "cells": [
  {
   "cell_type": "code",
   "execution_count": 21,
   "metadata": {},
   "outputs": [
    {
     "output_type": "stream",
     "name": "stdout",
     "text": "[[-5.0, 10.0, -10.0, 5.0, 10.0, 5.0, 10.0], [-5.0, 10.0, -10.0, 5.0, 10.0, 5.0, 10.0]]\n"
    }
   ],
   "source": [
    "import matplotlib.pyplot as plt\n",
    "import json\n",
    "\n",
    "\n",
    "\n",
    "with open(\"./data.json\") as data_file:\n",
    "    data = json.load(data_file)\n",
    "    in_sample_equities = get_in_sample_changes(get_equities(data))\n",
    "\n",
    "def get_equities(data):\n",
    "    return data['equityChanges']\n",
    "\n",
    "def get_in_sample_changes(equities):\n",
    "    return equities['in']\n",
    "\n",
    "def get_out_of_sample_changes(equities):\n",
    "    return equities['out']"
   ]
  },
  {
   "cell_type": "code",
   "execution_count": null,
   "metadata": {},
   "outputs": [],
   "source": []
  },
  {
   "cell_type": "code",
   "execution_count": null,
   "metadata": {},
   "outputs": [],
   "source": []
  }
 ],
 "metadata": {
  "language_info": {
   "codemirror_mode": {
    "name": "ipython",
    "version": 3
   },
   "file_extension": ".py",
   "mimetype": "text/x-python",
   "name": "python",
   "nbconvert_exporter": "python",
   "pygments_lexer": "ipython3",
   "version": "3.6.9-final"
  },
  "orig_nbformat": 2,
  "kernelspec": {
   "name": "python36964bitdf58e686617a48ffa6e95c4b74d3f882",
   "display_name": "Python 3.6.9 64-bit"
  }
 },
 "nbformat": 4,
 "nbformat_minor": 2
}